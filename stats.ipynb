{
 "cells": [
  {
   "cell_type": "code",
   "execution_count": 1,
   "metadata": {},
   "outputs": [],
   "source": [
    "import numpy as np\n",
    "import pandas as pd\n",
    "from scipy import stats\n",
    "rng = np.random.default_rng()"
   ]
  },
  {
   "attachments": {},
   "cell_type": "markdown",
   "metadata": {},
   "source": [
    "# 2 sample independent test for the mean\n",
    "Is the mean of the two samples statistically different?"
   ]
  },
  {
   "attachments": {},
   "cell_type": "markdown",
   "metadata": {},
   "source": [
    "Identical mean "
   ]
  },
  {
   "cell_type": "code",
   "execution_count": 7,
   "metadata": {},
   "outputs": [
    {
     "data": {
      "text/plain": [
       "<AxesSubplot:ylabel='Frequency'>"
      ]
     },
     "execution_count": 7,
     "metadata": {},
     "output_type": "execute_result"
    },
    {
     "data": {
      "image/png": "[encoded data removed]",
      "text/plain": [
       "<Figure size 432x288 with 1 Axes>"
      ]
     },
     "metadata": {
      "needs_background": "light"
     },
     "output_type": "display_data"
    }
   ],
   "source": [
    "pd.Series(stats.norm.rvs(loc=5, scale=10, size=500, random_state=rng)).plot.hist()"
   ]
  },
  {
   "cell_type": "code",
   "execution_count": 38,
   "metadata": {},
   "outputs": [
    {
     "name": "stdout",
     "output_type": "stream",
     "text": [
      "Ttest_indResult(statistic=1.0765755546982698, pvalue=0.2819301011876895)\n",
      "Ttest_indResult(statistic=1.0765755546982698, pvalue=0.28193051837736155)\n"
     ]
    }
   ],
   "source": [
    "# loc = mean, scale = standard deviation, size = number of samples\n",
    "rvs1 = stats.norm.rvs(loc=5, scale=10, size=500, random_state=rng)\n",
    "rvs2 = stats.norm.rvs(loc=5, scale=10, size=500, random_state=rng)\n",
    "\n",
    "print(stats.ttest_ind(rvs1, rvs2))\n",
    "\n",
    "# equal_var = False means that the two samples have unequal variances. We perform a Welch's t-test\n",
    "# that does not assume equal population variance.\n",
    "print(stats.ttest_ind(rvs1, rvs2, equal_var=False))"
   ]
  },
  {
   "cell_type": "code",
   "execution_count": 52,
   "metadata": {},
   "outputs": [
    {
     "name": "stdout",
     "output_type": "stream",
     "text": [
      "Ttest_indResult(statistic=1.0765755546982698, pvalue=0.2819301011876895)\n"
     ]
    }
   ],
   "source": [
    "# pd data frame is also ok\n",
    "df = pd.DataFrame({'rvs1': rvs1, 'rvs2': rvs2})\n",
    "print(stats.ttest_ind(df.rvs1, df.rvs2))"
   ]
  },
  {
   "attachments": {},
   "cell_type": "markdown",
   "metadata": {},
   "source": [
    "Different variance. Leads to lower p-values which is bad. "
   ]
  },
  {
   "cell_type": "code",
   "execution_count": 39,
   "metadata": {},
   "outputs": [
    {
     "name": "stdout",
     "output_type": "stream",
     "text": [
      "Ttest_indResult(statistic=0.8752316290902312, pvalue=0.38165847341951964)\n",
      "Ttest_indResult(statistic=0.8752316290902312, pvalue=0.38174612273553477)\n"
     ]
    }
   ],
   "source": [
    "rvs3 = stats.norm.rvs(loc=5, scale=20, size=500, random_state=rng)\n",
    "print(stats.ttest_ind(rvs1, rvs3))\n",
    "print(stats.ttest_ind(rvs1, rvs3, equal_var=False))"
   ]
  },
  {
   "attachments": {},
   "cell_type": "markdown",
   "metadata": {},
   "source": [
    "Different mean"
   ]
  },
  {
   "cell_type": "code",
   "execution_count": 43,
   "metadata": {},
   "outputs": [
    {
     "name": "stdout",
     "output_type": "stream",
     "text": [
      "Ttest_indResult(statistic=-8.276417160593105, pvalue=4.0378406925888725e-16)\n",
      "Ttest_indResult(statistic=-8.276417160593105, pvalue=4.0452988665356315e-16)\n"
     ]
    }
   ],
   "source": [
    "rvs4 = stats.norm.rvs(loc=10, scale=10, size=500, random_state=rng)\n",
    "print(stats.ttest_ind(rvs1, rvs4))\n",
    "print(stats.ttest_ind(rvs1, rvs4, equal_var=False))"
   ]
  },
  {
   "attachments": {},
   "cell_type": "markdown",
   "metadata": {},
   "source": [
    "Different sizes of samples. welsh is different"
   ]
  },
  {
   "cell_type": "code",
   "execution_count": 47,
   "metadata": {},
   "outputs": [
    {
     "name": "stdout",
     "output_type": "stream",
     "text": [
      "Ttest_indResult(statistic=-1.084152669828774, pvalue=0.2787340145626578)\n",
      "Ttest_indResult(statistic=-0.7084730703901807, pvalue=0.48016301918482984)\n"
     ]
    }
   ],
   "source": [
    "rvs5 = stats.norm.rvs(loc=5, scale=20, size=100, random_state=rng)\n",
    "print(stats.ttest_ind(rvs1, rvs5))\n",
    "print(stats.ttest_ind(rvs1, rvs5, equal_var=False))"
   ]
  },
  {
   "attachments": {},
   "cell_type": "markdown",
   "metadata": {},
   "source": [
    "# Chi-squared test for independence\n",
    "Are two categorical vars related?"
   ]
  },
  {
   "cell_type": "code",
   "execution_count": 48,
   "metadata": {},
   "outputs": [
    {
     "name": "stdout",
     "output_type": "stream",
     "text": [
      "p value is 0.1031971404730939\n",
      "Independent (H0 holds true)\n"
     ]
    }
   ],
   "source": [
    "from scipy.stats import chi2_contingency\n",
    "  \n",
    "# defining the table\n",
    "data = [[207, 282, 241], [234, 242, 232]]\n",
    "stat, p, dof, expected = chi2_contingency(data)\n",
    "  \n",
    "# interpret p-value\n",
    "alpha = 0.05\n",
    "print(\"p value is \" + str(p))\n",
    "if p <= alpha:\n",
    "    print('Dependent (reject H0)')\n",
    "else:\n",
    "    print('Independent (H0 holds true)')"
   ]
  },
  {
   "attachments": {},
   "cell_type": "markdown",
   "metadata": {},
   "source": [
    "# Chi-squared test for goodnes of fit\n",
    "Are the frequencies as expected?"
   ]
  },
  {
   "cell_type": "code",
   "execution_count": 49,
   "metadata": {},
   "outputs": [
    {
     "data": {
      "text/plain": [
       "Power_divergenceResult(statistic=2.0, pvalue=0.8491450360846096)"
      ]
     },
     "execution_count": 49,
     "metadata": {},
     "output_type": "execute_result"
    }
   ],
   "source": [
    "from scipy.stats import chisquare\n",
    "# If no expected frequencies are given, the chi-square statistic is calculated using the observed frequencies themselves as expected frequencies.\n",
    "chisquare([16, 18, 16, 14, 12, 12])"
   ]
  },
  {
   "cell_type": "code",
   "execution_count": 50,
   "metadata": {},
   "outputs": [
    {
     "data": {
      "text/plain": [
       "Power_divergenceResult(statistic=3.5, pvalue=0.6233876277495822)"
      ]
     },
     "execution_count": 50,
     "metadata": {},
     "output_type": "execute_result"
    }
   ],
   "source": [
    "chisquare([16, 18, 16, 14, 12, 12], f_exp=[16, 16, 16, 16, 16, 8])"
   ]
  },
  {
   "attachments": {},
   "cell_type": "markdown",
   "metadata": {},
   "source": [
    "# Sample mean and confidence interval"
   ]
  },
  {
   "cell_type": "code",
   "execution_count": 64,
   "metadata": {},
   "outputs": [
    {
     "data": {
      "text/plain": [
       "count    5000.000000\n",
       "mean       20.105607\n",
       "std        40.376009\n",
       "min      -120.745400\n",
       "25%        -7.547362\n",
       "50%        20.238718\n",
       "75%        47.354499\n",
       "max       204.951153\n",
       "dtype: float64"
      ]
     },
     "metadata": {},
     "output_type": "display_data"
    },
    {
     "data": {
      "text/plain": [
       "<AxesSubplot:ylabel='Frequency'>"
      ]
     },
     "execution_count": 64,
     "metadata": {},
     "output_type": "execute_result"
    },
    {
     "data": {
      "image/png": "[encoded data removed]",
      "text/plain": [
       "<Figure size 432x288 with 1 Axes>"
      ]
     },
     "metadata": {
      "needs_background": "light"
     },
     "output_type": "display_data"
    }
   ],
   "source": [
    "df = pd.Series(stats.norm.rvs(loc = 20, scale = 40, size = 5000, random_state=rng))\n",
    "display(df.describe())\n",
    "df.plot.hist()"
   ]
  },
  {
   "cell_type": "code",
   "execution_count": 66,
   "metadata": {},
   "outputs": [
    {
     "data": {
      "text/plain": [
       "(8.860937334158985, 29.903565994862873)"
      ]
     },
     "execution_count": 66,
     "metadata": {},
     "output_type": "execute_result"
    }
   ],
   "source": [
    "df = pd.Series(stats.norm.rvs(loc = 20, scale = 40, size = 50, random_state=rng))\n",
    "stats.t.interval(\n",
    "    alpha = 0.95, \n",
    "    df = len(df)-1,\n",
    "    loc = np.mean(df),\n",
    "    scale = stats.sem(df)\n",
    ")"
   ]
  },
  {
   "cell_type": "code",
   "execution_count": 67,
   "metadata": {},
   "outputs": [
    {
     "data": {
      "text/plain": [
       "(15.43834056332571, 22.527779424947)"
      ]
     },
     "execution_count": 67,
     "metadata": {},
     "output_type": "execute_result"
    }
   ],
   "source": [
    "df = pd.Series(stats.norm.rvs(loc = 20, scale = 40, size = 500, random_state=rng))\n",
    "stats.t.interval(\n",
    "    alpha = 0.95, \n",
    "    df = len(df)-1,\n",
    "    loc = np.mean(df),\n",
    "    scale = stats.sem(df)\n",
    ")"
   ]
  },
  {
   "cell_type": "code",
   "execution_count": 68,
   "metadata": {},
   "outputs": [
    {
     "data": {
      "text/plain": [
       "(19.47853661118807, 21.741089909456228)"
      ]
     },
     "execution_count": 68,
     "metadata": {},
     "output_type": "execute_result"
    }
   ],
   "source": [
    "df = pd.Series(stats.norm.rvs(loc = 20, scale = 40, size = 5000, random_state=rng))\n",
    "stats.t.interval(\n",
    "    alpha = 0.95, \n",
    "    df = len(df)-1,\n",
    "    loc = np.mean(df),\n",
    "    scale = stats.sem(df)\n",
    ")"
   ]
  },
  {
   "attachments": {},
   "cell_type": "markdown",
   "metadata": {},
   "source": [
    "# One way ANOVA\n",
    "de facto n-sample independent test fro mean  \n",
    "H0: all means are equal   \n",
    "H1: at least one gropup is different"
   ]
  },
  {
   "cell_type": "code",
   "execution_count": 69,
   "metadata": {},
   "outputs": [],
   "source": [
    "from scipy.stats import f_oneway\n",
    "# dict cause why not\n",
    "data = {\n",
    "    0 : stats.norm.rvs(loc = 20, scale = 40, size = 5000, random_state = rng),\n",
    "    1 : stats.norm.rvs(loc = 20, scale = 40, size = 5000, random_state = rng),\n",
    "    2 : stats.norm.rvs(loc = 20, scale = 40, size = 5000, random_state = rng),\n",
    "}"
   ]
  },
  {
   "cell_type": "code",
   "execution_count": 70,
   "metadata": {},
   "outputs": [
    {
     "data": {
      "text/plain": [
       "F_onewayResult(statistic=0.5525153646033919, pvalue=0.5755121091260076)"
      ]
     },
     "execution_count": 70,
     "metadata": {},
     "output_type": "execute_result"
    }
   ],
   "source": [
    "# same\n",
    "data = {\n",
    "    0 : stats.norm.rvs(loc = 20, scale = 40, size = 5000, random_state = rng),\n",
    "    1 : stats.norm.rvs(loc = 20, scale = 40, size = 5000, random_state = rng),\n",
    "    2 : stats.norm.rvs(loc = 20, scale = 40, size = 5000, random_state = rng),\n",
    "}\n",
    "f_oneway(data[0], data[1], data[2])"
   ]
  },
  {
   "cell_type": "code",
   "execution_count": 71,
   "metadata": {},
   "outputs": [
    {
     "data": {
      "text/plain": [
       "F_onewayResult(statistic=457.85159173095525, pvalue=9.813638793179567e-194)"
      ]
     },
     "execution_count": 71,
     "metadata": {},
     "output_type": "execute_result"
    }
   ],
   "source": [
    "# One mean different\n",
    "data = {\n",
    "    0 : stats.norm.rvs(loc = 20, scale = 40, size = 5000, random_state = rng),\n",
    "    1 : stats.norm.rvs(loc = 40, scale = 40, size = 5000, random_state = rng),\n",
    "    2 : stats.norm.rvs(loc = 20, scale = 40, size = 5000, random_state = rng),\n",
    "}\n",
    "f_oneway(data[0], data[1], data[2])"
   ]
  },
  {
   "cell_type": "code",
   "execution_count": 72,
   "metadata": {},
   "outputs": [
    {
     "data": {
      "text/plain": [
       "F_onewayResult(statistic=0.45408636925781626, pvalue=0.6350366147221085)"
      ]
     },
     "execution_count": 72,
     "metadata": {},
     "output_type": "execute_result"
    }
   ],
   "source": [
    "# One variance different\n",
    "data = {\n",
    "    0 : stats.norm.rvs(loc = 20, scale = 40, size = 5000, random_state = rng),\n",
    "    1 : stats.norm.rvs(loc = 20, scale = 80, size = 5000, random_state = rng),\n",
    "    2 : stats.norm.rvs(loc = 20, scale = 40, size = 5000, random_state = rng),\n",
    "}\n",
    "f_oneway(data[0], data[1], data[2])"
   ]
  },
  {
   "cell_type": "code",
   "execution_count": 73,
   "metadata": {},
   "outputs": [
    {
     "data": {
      "text/plain": [
       "F_onewayResult(statistic=0.7762451645471405, pvalue=0.46014897241388886)"
      ]
     },
     "execution_count": 73,
     "metadata": {},
     "output_type": "execute_result"
    }
   ],
   "source": [
    "# Like above but stronger\n",
    "data = {\n",
    "    0 : stats.norm.rvs(loc = 20, scale = 40, size = 5000, random_state = rng),\n",
    "    1 : stats.norm.rvs(loc = 20, scale = 400, size = 5000, random_state = rng),\n",
    "    2 : stats.norm.rvs(loc = 20, scale = 40, size = 5000, random_state = rng),\n",
    "}\n",
    "f_oneway(data[0], data[1], data[2])"
   ]
  },
  {
   "cell_type": "code",
   "execution_count": 74,
   "metadata": {},
   "outputs": [
    {
     "data": {
      "text/plain": [
       "F_onewayResult(statistic=0.28078610960999195, pvalue=0.7551908384169808)"
      ]
     },
     "execution_count": 74,
     "metadata": {},
     "output_type": "execute_result"
    }
   ],
   "source": [
    "# Different sample sizes\n",
    "data = {\n",
    "    0 : stats.norm.rvs(loc = 20, scale = 40, size = 5000, random_state = rng),\n",
    "    1 : stats.norm.rvs(loc = 20, scale = 40, size = 50000, random_state = rng),\n",
    "    2 : stats.norm.rvs(loc = 20, scale = 40, size = 5000, random_state = rng),\n",
    "}\n",
    "f_oneway(data[0], data[1], data[2])"
   ]
  },
  {
   "cell_type": "code",
   "execution_count": null,
   "metadata": {},
   "outputs": [],
   "source": []
  }
 ],
 "metadata": {
  "kernelspec": {
   "display_name": "base",
   "language": "python",
   "name": "python3"
  },
  "language_info": {
   "codemirror_mode": {
    "name": "ipython",
    "version": 3
   },
   "file_extension": ".py",
   "mimetype": "text/x-python",
   "name": "python",
   "nbconvert_exporter": "python",
   "pygments_lexer": "ipython3",
   "version": "3.9.12"
  },
  "orig_nbformat": 4
 },
 "nbformat": 4,
 "nbformat_minor": 2
}
